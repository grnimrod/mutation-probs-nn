{
 "cells": [
  {
   "cell_type": "markdown",
   "id": "71ffe9d0",
   "metadata": {},
   "source": [
    "# Full data, 15-mer, \"A\" reference nucleotide split examination"
   ]
  },
  {
   "cell_type": "code",
   "execution_count": 1,
   "id": "6ad5e7bf",
   "metadata": {},
   "outputs": [
    {
     "name": "stdout",
     "output_type": "stream",
     "text": [
      "X_train example:  tensor([0., 0., 1., 0., 1., 0., 0., 0., 0., 0., 0., 1., 0., 0., 1., 0., 0., 0.,\n",
      "        0., 1., 0., 0., 0., 1., 0., 1., 0., 0., 1., 0., 0., 0., 0., 0., 0., 1.,\n",
      "        1., 0., 0., 0., 0., 0., 1., 0., 0., 0., 0., 1., 1., 0., 0., 0., 0., 0.,\n",
      "        1., 0., 1., 0., 0., 0.])\n",
      "X_val example:  tensor([1., 0., 0., 0., 1., 0., 0., 0., 0., 1., 0., 0., 0., 0., 0., 1., 0., 0.,\n",
      "        1., 0., 0., 0., 1., 0., 0., 0., 1., 0., 1., 0., 0., 0., 0., 0., 1., 0.,\n",
      "        0., 0., 1., 0., 0., 1., 0., 0., 0., 1., 0., 0., 0., 0., 1., 0., 0., 0.,\n",
      "        0., 1., 0., 0., 0., 1.])\n",
      "Ratio of train and val lengths: 0.2142861888657821 set to be: 0.21428571428571427\n"
     ]
    }
   ],
   "source": [
    "import os\n",
    "from collections import Counter\n",
    "import numpy as np\n",
    "import pandas as pd\n",
    "import matplotlib.pyplot as plt\n",
    "import torch\n",
    "from sklearn.model_selection import train_test_split\n",
    "\n",
    "from utils.load_splits import load_splits\n",
    "\n",
    "\n",
    "X_train, y_train, X_val, y_val, X_test, y_test = load_splits(data_version=\"15fA\")\n",
    "\n",
    "print(\"X_train example: \", X_train[0])\n",
    "print(\"X_val example: \", X_val[0])\n",
    "print(\"Ratio of train and val lengths:\", len(X_val) / len(X_train), \"set to be:\", 15 / 70)"
   ]
  },
  {
   "cell_type": "markdown",
   "id": "475f1f65",
   "metadata": {},
   "source": [
    "## Checking out the dataframe the splits are created off of"
   ]
  },
  {
   "cell_type": "code",
   "execution_count": 4,
   "id": "1305f06f",
   "metadata": {},
   "outputs": [],
   "source": [
    "df = pd.read_csv(\"/home/grnimrod/MutationAnalysis/Nimrod/data/processed/15mer_full_A.tsv\", sep=\"\\t\")\n",
    "\n",
    "train_dataset, temp_dataset = train_test_split(df, train_size=0.7, random_state=42, stratify=df[\"mut\"])\n",
    "val_dataset, test_dataset = train_test_split(temp_dataset, test_size=0.5, random_state=42, stratify=temp_dataset[\"mut\"])"
   ]
  },
  {
   "cell_type": "code",
   "execution_count": 5,
   "id": "99b0a807",
   "metadata": {},
   "outputs": [
    {
     "data": {
      "text/html": [
       "<div>\n",
       "<style scoped>\n",
       "    .dataframe tbody tr th:only-of-type {\n",
       "        vertical-align: middle;\n",
       "    }\n",
       "\n",
       "    .dataframe tbody tr th {\n",
       "        vertical-align: top;\n",
       "    }\n",
       "\n",
       "    .dataframe thead th {\n",
       "        text-align: right;\n",
       "    }\n",
       "</style>\n",
       "<table border=\"1\" class=\"dataframe\">\n",
       "  <thead>\n",
       "    <tr style=\"text-align: right;\">\n",
       "      <th></th>\n",
       "      <th>chrom</th>\n",
       "      <th>pos</th>\n",
       "      <th>context</th>\n",
       "      <th>mut</th>\n",
       "      <th>type</th>\n",
       "    </tr>\n",
       "  </thead>\n",
       "  <tbody>\n",
       "    <tr>\n",
       "      <th>1125865</th>\n",
       "      <td>chr5</td>\n",
       "      <td>98819681</td>\n",
       "      <td>GATGTTCATAGTAGA</td>\n",
       "      <td>0</td>\n",
       "      <td>A-&gt;A</td>\n",
       "    </tr>\n",
       "    <tr>\n",
       "      <th>35407</th>\n",
       "      <td>chr1</td>\n",
       "      <td>70770591</td>\n",
       "      <td>ATTAGAAAGAAATTA</td>\n",
       "      <td>1</td>\n",
       "      <td>A-&gt;G</td>\n",
       "    </tr>\n",
       "    <tr>\n",
       "      <th>1455202</th>\n",
       "      <td>chr9</td>\n",
       "      <td>19686590</td>\n",
       "      <td>TCTCATGATAGTGAG</td>\n",
       "      <td>0</td>\n",
       "      <td>A-&gt;A</td>\n",
       "    </tr>\n",
       "    <tr>\n",
       "      <th>970779</th>\n",
       "      <td>chr4</td>\n",
       "      <td>27478600</td>\n",
       "      <td>AGGAGAGAAAAAATA</td>\n",
       "      <td>0</td>\n",
       "      <td>A-&gt;A</td>\n",
       "    </tr>\n",
       "    <tr>\n",
       "      <th>87053</th>\n",
       "      <td>chr1</td>\n",
       "      <td>186956205</td>\n",
       "      <td>CTCTGGTATTGAATA</td>\n",
       "      <td>0</td>\n",
       "      <td>A-&gt;A</td>\n",
       "    </tr>\n",
       "  </tbody>\n",
       "</table>\n",
       "</div>"
      ],
      "text/plain": [
       "        chrom        pos          context  mut  type\n",
       "1125865  chr5   98819681  GATGTTCATAGTAGA    0  A->A\n",
       "35407    chr1   70770591  ATTAGAAAGAAATTA    1  A->G\n",
       "1455202  chr9   19686590  TCTCATGATAGTGAG    0  A->A\n",
       "970779   chr4   27478600  AGGAGAGAAAAAATA    0  A->A\n",
       "87053    chr1  186956205  CTCTGGTATTGAATA    0  A->A"
      ]
     },
     "execution_count": 5,
     "metadata": {},
     "output_type": "execute_result"
    }
   ],
   "source": [
    "train_dataset[:5]"
   ]
  },
  {
   "cell_type": "code",
   "execution_count": 6,
   "id": "a61c106f",
   "metadata": {},
   "outputs": [
    {
     "data": {
      "text/html": [
       "<div>\n",
       "<style scoped>\n",
       "    .dataframe tbody tr th:only-of-type {\n",
       "        vertical-align: middle;\n",
       "    }\n",
       "\n",
       "    .dataframe tbody tr th {\n",
       "        vertical-align: top;\n",
       "    }\n",
       "\n",
       "    .dataframe thead th {\n",
       "        text-align: right;\n",
       "    }\n",
       "</style>\n",
       "<table border=\"1\" class=\"dataframe\">\n",
       "  <thead>\n",
       "    <tr style=\"text-align: right;\">\n",
       "      <th></th>\n",
       "      <th>chrom</th>\n",
       "      <th>pos</th>\n",
       "      <th>context</th>\n",
       "      <th>mut</th>\n",
       "      <th>type</th>\n",
       "    </tr>\n",
       "  </thead>\n",
       "  <tbody>\n",
       "    <tr>\n",
       "      <th>126791</th>\n",
       "      <td>chr10</td>\n",
       "      <td>7503923</td>\n",
       "      <td>AACTGGGAGGCCGTT</td>\n",
       "      <td>0</td>\n",
       "      <td>A-&gt;A</td>\n",
       "    </tr>\n",
       "    <tr>\n",
       "      <th>743811</th>\n",
       "      <td>chr2</td>\n",
       "      <td>191217580</td>\n",
       "      <td>CATGCCAAGATATTA</td>\n",
       "      <td>0</td>\n",
       "      <td>A-&gt;A</td>\n",
       "    </tr>\n",
       "    <tr>\n",
       "      <th>942513</th>\n",
       "      <td>chr3</td>\n",
       "      <td>175200877</td>\n",
       "      <td>ATACTGTACTTATCA</td>\n",
       "      <td>1</td>\n",
       "      <td>A-&gt;G</td>\n",
       "    </tr>\n",
       "    <tr>\n",
       "      <th>850108</th>\n",
       "      <td>chr3</td>\n",
       "      <td>18357289</td>\n",
       "      <td>GAAATGTAATTCATG</td>\n",
       "      <td>0</td>\n",
       "      <td>A-&gt;A</td>\n",
       "    </tr>\n",
       "    <tr>\n",
       "      <th>616806</th>\n",
       "      <td>chr19</td>\n",
       "      <td>11128738</td>\n",
       "      <td>TTCTTATACTTATGA</td>\n",
       "      <td>0</td>\n",
       "      <td>A-&gt;A</td>\n",
       "    </tr>\n",
       "  </tbody>\n",
       "</table>\n",
       "</div>"
      ],
      "text/plain": [
       "        chrom        pos          context  mut  type\n",
       "126791  chr10    7503923  AACTGGGAGGCCGTT    0  A->A\n",
       "743811   chr2  191217580  CATGCCAAGATATTA    0  A->A\n",
       "942513   chr3  175200877  ATACTGTACTTATCA    1  A->G\n",
       "850108   chr3   18357289  GAAATGTAATTCATG    0  A->A\n",
       "616806  chr19   11128738  TTCTTATACTTATGA    0  A->A"
      ]
     },
     "execution_count": 6,
     "metadata": {},
     "output_type": "execute_result"
    }
   ],
   "source": [
    "val_dataset[:5]"
   ]
  },
  {
   "cell_type": "markdown",
   "id": "f51b49f1",
   "metadata": {},
   "source": [
    "Ratio of mutated to non-mutated sites is consistent across splits"
   ]
  },
  {
   "cell_type": "code",
   "execution_count": 12,
   "id": "da0290c8",
   "metadata": {},
   "outputs": [
    {
     "data": {
      "text/plain": [
       "6.361241729142066"
      ]
     },
     "execution_count": 12,
     "metadata": {},
     "output_type": "execute_result"
    }
   ],
   "source": [
    "list(Counter(train_dataset[\"mut\"]).values())[0] / list(Counter(train_dataset[\"mut\"]).values())[1]"
   ]
  },
  {
   "cell_type": "code",
   "execution_count": 13,
   "id": "2332acbe",
   "metadata": {},
   "outputs": [
    {
     "data": {
      "text/plain": [
       "6.3613094655841405"
      ]
     },
     "execution_count": 13,
     "metadata": {},
     "output_type": "execute_result"
    }
   ],
   "source": [
    "list(Counter(val_dataset[\"mut\"]).values())[0] / list(Counter(val_dataset[\"mut\"]).values())[1]"
   ]
  },
  {
   "cell_type": "markdown",
   "id": "5e9e6c83",
   "metadata": {},
   "source": [
    "# Examine 3-mer version of the data\n",
    "## How many unique 3-mers are there and in what distribution?"
   ]
  },
  {
   "cell_type": "code",
   "execution_count": 56,
   "id": "99859a33",
   "metadata": {},
   "outputs": [],
   "source": [
    "df = pd.read_csv(\"/home/grnimrod/MutationAnalysis/Nimrod/data/processed/3mer_full_A.tsv\", sep=\"\\t\")"
   ]
  },
  {
   "cell_type": "code",
   "execution_count": 57,
   "id": "d3dc36ca",
   "metadata": {},
   "outputs": [
    {
     "data": {
      "image/png": "[encoded data removed]",
      "text/plain": [
       "<Figure size 1200x400 with 2 Axes>"
      ]
     },
     "metadata": {},
     "output_type": "display_data"
    }
   ],
   "source": [
    "def plot_distr(df):\n",
    "    context_counts = df[\"context\"].value_counts().to_dict()\n",
    "    sorted_context_counts = sorted(context_counts.items(), key=lambda item: item[1], reverse=True)\n",
    "    patterns, context_counts = zip(*sorted_context_counts)\n",
    "\n",
    "    df[\"mut_type\"] = df[\"type\"].str[-1]\n",
    "    mut_counts = df[\"mut_type\"].value_counts().to_dict()\n",
    "    sorted_mut_counts = sorted(mut_counts.items(), key=lambda item: item[1], reverse=True)\n",
    "    mutations, mut_counts = zip(*sorted_mut_counts)\n",
    "\n",
    "    plt.figure(figsize=(12, 4))\n",
    "    plt.subplot(121)\n",
    "    plt.bar(range(len(context_counts)), context_counts)\n",
    "    plt.xticks(range(len(patterns)), patterns, rotation=90)\n",
    "    plt.xlabel(\"Different 3-mers\")\n",
    "    plt.ylabel(\"Count of 3-mers\")\n",
    "    plt.title(\"Distribution of 3-mers\")\n",
    "    plt.tight_layout()\n",
    "\n",
    "    plt.subplot(122)\n",
    "    plt.bar(range(len(mut_counts)), mut_counts)\n",
    "    plt.xticks(range(len(mutations)), mutations, rotation=90)\n",
    "    plt.xlabel(\"Resulting nucleotide\")\n",
    "    plt.ylabel(\"Count of nucleotides\")\n",
    "    plt.title(\"Distribution of resulting nucleotides\")\n",
    "    plt.tight_layout()\n",
    "    plt.show()\n",
    "\n",
    "\n",
    "plot_distr(df)"
   ]
  },
  {
   "cell_type": "markdown",
   "id": "bf90651e",
   "metadata": {},
   "source": [
    "## How many combinations of feature-label pairs do we have in the full 3-mer data?"
   ]
  },
  {
   "cell_type": "code",
   "execution_count": null,
   "id": "4f9e0bea",
   "metadata": {},
   "outputs": [],
   "source": [
    "# df = pd.read_csv(\"/home/grnimrod/MutationAnalysis/Nimrod/data/processed/3mer_full_A.tsv\", sep=\"\\t\")"
   ]
  },
  {
   "cell_type": "code",
   "execution_count": 40,
   "id": "293258de",
   "metadata": {},
   "outputs": [],
   "source": [
    "list_of_unique_pairs = []\n",
    "\n",
    "for row in range(len(df)):\n",
    "    tup = (df.iloc[row][\"context\"], df.iloc[row][\"mut_type\"])\n",
    "    if tup not in list_of_unique_pairs:\n",
    "        list_of_unique_pairs.append(tup)"
   ]
  },
  {
   "cell_type": "code",
   "execution_count": 41,
   "id": "336b3074",
   "metadata": {},
   "outputs": [
    {
     "data": {
      "text/plain": [
       "64"
      ]
     },
     "execution_count": 41,
     "metadata": {},
     "output_type": "execute_result"
    }
   ],
   "source": [
    "len(list_of_unique_pairs)"
   ]
  },
  {
   "cell_type": "markdown",
   "id": "d3993f9d",
   "metadata": {},
   "source": [
    "64 pairs are represented, which is unsurprisingly all possible combinations of 16 different features and 4 different labels. The question now is whether resulting nucleotides are similarly distributed across patterns or not"
   ]
  },
  {
   "cell_type": "code",
   "execution_count": null,
   "id": "435e24ae",
   "metadata": {},
   "outputs": [],
   "source": [
    "temp_df = pd.DataFrame(df[\"context\"])\n",
    "\n",
    "temp_df[\"mut_type\"] = df[\"mut_type\"]"
   ]
  },
  {
   "cell_type": "code",
   "execution_count": 47,
   "id": "b6478e56",
   "metadata": {},
   "outputs": [
    {
     "data": {
      "text/html": [
       "<div>\n",
       "<style scoped>\n",
       "    .dataframe tbody tr th:only-of-type {\n",
       "        vertical-align: middle;\n",
       "    }\n",
       "\n",
       "    .dataframe tbody tr th {\n",
       "        vertical-align: top;\n",
       "    }\n",
       "\n",
       "    .dataframe thead th {\n",
       "        text-align: right;\n",
       "    }\n",
       "</style>\n",
       "<table border=\"1\" class=\"dataframe\">\n",
       "  <thead>\n",
       "    <tr style=\"text-align: right;\">\n",
       "      <th></th>\n",
       "      <th>context</th>\n",
       "      <th>mut_type</th>\n",
       "    </tr>\n",
       "  </thead>\n",
       "  <tbody>\n",
       "    <tr>\n",
       "      <th>0</th>\n",
       "      <td>TAG</td>\n",
       "      <td>A</td>\n",
       "    </tr>\n",
       "    <tr>\n",
       "      <th>1</th>\n",
       "      <td>CAT</td>\n",
       "      <td>A</td>\n",
       "    </tr>\n",
       "    <tr>\n",
       "      <th>2</th>\n",
       "      <td>GAT</td>\n",
       "      <td>A</td>\n",
       "    </tr>\n",
       "    <tr>\n",
       "      <th>3</th>\n",
       "      <td>AAT</td>\n",
       "      <td>A</td>\n",
       "    </tr>\n",
       "    <tr>\n",
       "      <th>4</th>\n",
       "      <td>AAC</td>\n",
       "      <td>A</td>\n",
       "    </tr>\n",
       "  </tbody>\n",
       "</table>\n",
       "</div>"
      ],
      "text/plain": [
       "  context mut_type\n",
       "0     TAG        A\n",
       "1     CAT        A\n",
       "2     GAT        A\n",
       "3     AAT        A\n",
       "4     AAC        A"
      ]
     },
     "execution_count": 47,
     "metadata": {},
     "output_type": "execute_result"
    }
   ],
   "source": [
    "temp_df.head()"
   ]
  },
  {
   "cell_type": "code",
   "execution_count": 48,
   "id": "32f71823",
   "metadata": {},
   "outputs": [
    {
     "data": {
      "text/html": [
       "<div>\n",
       "<style scoped>\n",
       "    .dataframe tbody tr th:only-of-type {\n",
       "        vertical-align: middle;\n",
       "    }\n",
       "\n",
       "    .dataframe tbody tr th {\n",
       "        vertical-align: top;\n",
       "    }\n",
       "\n",
       "    .dataframe thead th {\n",
       "        text-align: right;\n",
       "    }\n",
       "</style>\n",
       "<table border=\"1\" class=\"dataframe\">\n",
       "  <thead>\n",
       "    <tr style=\"text-align: right;\">\n",
       "      <th>mut_type</th>\n",
       "      <th>A</th>\n",
       "      <th>C</th>\n",
       "      <th>G</th>\n",
       "      <th>T</th>\n",
       "    </tr>\n",
       "    <tr>\n",
       "      <th>context</th>\n",
       "      <th></th>\n",
       "      <th></th>\n",
       "      <th></th>\n",
       "      <th></th>\n",
       "    </tr>\n",
       "  </thead>\n",
       "  <tbody>\n",
       "    <tr>\n",
       "      <th>AAA</th>\n",
       "      <td>163089</td>\n",
       "      <td>4614</td>\n",
       "      <td>8668</td>\n",
       "      <td>2721</td>\n",
       "    </tr>\n",
       "    <tr>\n",
       "      <th>AAC</th>\n",
       "      <td>64850</td>\n",
       "      <td>1472</td>\n",
       "      <td>6606</td>\n",
       "      <td>1456</td>\n",
       "    </tr>\n",
       "    <tr>\n",
       "      <th>AAG</th>\n",
       "      <td>90669</td>\n",
       "      <td>2584</td>\n",
       "      <td>6880</td>\n",
       "      <td>1598</td>\n",
       "    </tr>\n",
       "    <tr>\n",
       "      <th>AAT</th>\n",
       "      <td>114041</td>\n",
       "      <td>2734</td>\n",
       "      <td>18540</td>\n",
       "      <td>2775</td>\n",
       "    </tr>\n",
       "    <tr>\n",
       "      <th>CAA</th>\n",
       "      <td>82669</td>\n",
       "      <td>2781</td>\n",
       "      <td>5614</td>\n",
       "      <td>1325</td>\n",
       "    </tr>\n",
       "    <tr>\n",
       "      <th>CAC</th>\n",
       "      <td>61188</td>\n",
       "      <td>2009</td>\n",
       "      <td>5518</td>\n",
       "      <td>1534</td>\n",
       "    </tr>\n",
       "    <tr>\n",
       "      <th>CAG</th>\n",
       "      <td>85235</td>\n",
       "      <td>2598</td>\n",
       "      <td>8288</td>\n",
       "      <td>1792</td>\n",
       "    </tr>\n",
       "    <tr>\n",
       "      <th>CAT</th>\n",
       "      <td>82307</td>\n",
       "      <td>3221</td>\n",
       "      <td>17789</td>\n",
       "      <td>3553</td>\n",
       "    </tr>\n",
       "    <tr>\n",
       "      <th>GAA</th>\n",
       "      <td>89987</td>\n",
       "      <td>2150</td>\n",
       "      <td>4891</td>\n",
       "      <td>1715</td>\n",
       "    </tr>\n",
       "    <tr>\n",
       "      <th>GAC</th>\n",
       "      <td>41084</td>\n",
       "      <td>884</td>\n",
       "      <td>3247</td>\n",
       "      <td>1406</td>\n",
       "    </tr>\n",
       "    <tr>\n",
       "      <th>GAG</th>\n",
       "      <td>68129</td>\n",
       "      <td>1614</td>\n",
       "      <td>4137</td>\n",
       "      <td>1513</td>\n",
       "    </tr>\n",
       "    <tr>\n",
       "      <th>GAT</th>\n",
       "      <td>58198</td>\n",
       "      <td>1188</td>\n",
       "      <td>6141</td>\n",
       "      <td>3311</td>\n",
       "    </tr>\n",
       "    <tr>\n",
       "      <th>TAA</th>\n",
       "      <td>97219</td>\n",
       "      <td>2488</td>\n",
       "      <td>7635</td>\n",
       "      <td>2731</td>\n",
       "    </tr>\n",
       "    <tr>\n",
       "      <th>TAC</th>\n",
       "      <td>50391</td>\n",
       "      <td>1045</td>\n",
       "      <td>6117</td>\n",
       "      <td>1098</td>\n",
       "    </tr>\n",
       "    <tr>\n",
       "      <th>TAG</th>\n",
       "      <td>58090</td>\n",
       "      <td>1236</td>\n",
       "      <td>5701</td>\n",
       "      <td>1188</td>\n",
       "    </tr>\n",
       "    <tr>\n",
       "      <th>TAT</th>\n",
       "      <td>93484</td>\n",
       "      <td>2044</td>\n",
       "      <td>21128</td>\n",
       "      <td>3183</td>\n",
       "    </tr>\n",
       "  </tbody>\n",
       "</table>\n",
       "</div>"
      ],
      "text/plain": [
       "mut_type       A     C      G     T\n",
       "context                            \n",
       "AAA       163089  4614   8668  2721\n",
       "AAC        64850  1472   6606  1456\n",
       "AAG        90669  2584   6880  1598\n",
       "AAT       114041  2734  18540  2775\n",
       "CAA        82669  2781   5614  1325\n",
       "CAC        61188  2009   5518  1534\n",
       "CAG        85235  2598   8288  1792\n",
       "CAT        82307  3221  17789  3553\n",
       "GAA        89987  2150   4891  1715\n",
       "GAC        41084   884   3247  1406\n",
       "GAG        68129  1614   4137  1513\n",
       "GAT        58198  1188   6141  3311\n",
       "TAA        97219  2488   7635  2731\n",
       "TAC        50391  1045   6117  1098\n",
       "TAG        58090  1236   5701  1188\n",
       "TAT        93484  2044  21128  3183"
      ]
     },
     "execution_count": 48,
     "metadata": {},
     "output_type": "execute_result"
    }
   ],
   "source": [
    "counts = temp_df.groupby([\"context\", \"mut_type\"]).value_counts().unstack(fill_value=0)\n",
    "counts"
   ]
  },
  {
   "cell_type": "code",
   "execution_count": 50,
   "id": "e2c3645b",
   "metadata": {},
   "outputs": [
    {
     "data": {
      "image/png": "[encoded data removed]",
      "text/plain": [
       "<Figure size 1000x500 with 1 Axes>"
      ]
     },
     "metadata": {},
     "output_type": "display_data"
    }
   ],
   "source": [
    "counts.plot(kind=\"bar\", figsize=(10, 5))\n",
    "\n",
    "plt.title(\"Distribution of mutations within each context\")\n",
    "plt.xlabel(\"Context\")\n",
    "plt.ylabel(\"Nucleotide\")\n",
    "plt.legend()\n",
    "plt.tight_layout()\n",
    "\n",
    "plt.show()"
   ]
  },
  {
   "cell_type": "markdown",
   "id": "89151723",
   "metadata": {},
   "source": [
    "# Examine reduced 3-mer version (current \"experiments\")"
   ]
  },
  {
   "cell_type": "code",
   "execution_count": 58,
   "id": "a8bf3cfd",
   "metadata": {},
   "outputs": [],
   "source": [
    "df = pd.read_csv(\"/home/grnimrod/MutationAnalysis/Nimrod/data/processed/3mer_full_A.tsv\", sep=\"\\t\")\n",
    "\n",
    "df_nonmut = df[df[\"mut\"] == 0]\n",
    "df_mut = df[df[\"mut\"] == 1]\n",
    "\n",
    "df_nonmut_reduced, _ = train_test_split(df_nonmut, train_size=0.1, random_state=42, stratify=df_nonmut[\"context\"])\n",
    "\n",
    "df = pd.concat([df_mut, df_nonmut_reduced], axis=0)"
   ]
  },
  {
   "cell_type": "code",
   "execution_count": 52,
   "id": "46471e1a",
   "metadata": {},
   "outputs": [],
   "source": [
    "df.to_csv(\"/home/grnimrod/MutationAnalysis/Nimrod/data/processed/experiment_full.tsv\", sep=\"\\t\")"
   ]
  },
  {
   "cell_type": "code",
   "execution_count": 59,
   "id": "b5a68cf5",
   "metadata": {},
   "outputs": [
    {
     "data": {
      "image/png": "[encoded data removed]",
      "text/plain": [
       "<Figure size 1200x400 with 2 Axes>"
      ]
     },
     "metadata": {},
     "output_type": "display_data"
    }
   ],
   "source": [
    "plot_distr(df)"
   ]
  }
 ],
 "metadata": {
  "kernelspec": {
   "display_name": "mutation-probs-nn",
   "language": "python",
   "name": "python3"
  },
  "language_info": {
   "codemirror_mode": {
    "name": "ipython",
    "version": 3
   },
   "file_extension": ".py",
   "mimetype": "text/x-python",
   "name": "python",
   "nbconvert_exporter": "python",
   "pygments_lexer": "ipython3",
   "version": "3.9.18"
  }
 },
 "nbformat": 4,
 "nbformat_minor": 5
}
