{
 "cells": [
  {
   "cell_type": "markdown",
   "id": "06c7b5d2",
   "metadata": {},
   "source": [
    "# Notebook for inferring predictions and comparing model performance"
   ]
  },
  {
   "cell_type": "code",
   "execution_count": 7,
   "id": "678b2fc2",
   "metadata": {},
   "outputs": [
    {
     "data": {
      "text/plain": [
       "FullyConnectedNN(\n",
       "  (linear_relu_seq): Sequential(\n",
       "    (0): LazyLinear(in_features=0, out_features=128, bias=True)\n",
       "    (1): ReLU()\n",
       "    (2): LazyLinear(in_features=0, out_features=64, bias=True)\n",
       "    (3): ReLU()\n",
       "    (4): LazyLinear(in_features=0, out_features=4, bias=True)\n",
       "  )\n",
       ")"
      ]
     },
     "execution_count": 7,
     "metadata": {},
     "output_type": "execute_result"
    }
   ],
   "source": [
    "import torch\n",
    "from torch.utils.data import TensorDataset, DataLoader\n",
    "from sklearn.metrics import log_loss\n",
    "\n",
    "from model_definitions import FullyConnectedNN\n",
    "from utils.load_splits import load_splits\n",
    "\n",
    "\n",
    "model = FullyConnectedNN()\n",
    "model.load_state_dict(torch.load(\"/faststorage/project/MutationAnalysis/Nimrod/results/models/fc/3sC/model.pth\"))\n",
    "\n",
    "model.eval()"
   ]
  },
  {
   "cell_type": "code",
   "execution_count": 8,
   "id": "6b806ee5",
   "metadata": {},
   "outputs": [
    {
     "name": "stdout",
     "output_type": "stream",
     "text": [
      "Test log loss: 0.6922024670608665\n"
     ]
    }
   ],
   "source": [
    "_, _, _, _, X_test, y_test = load_splits(\"3sC\")\n",
    "test_dataset = TensorDataset(X_test, y_test)\n",
    "test_loader = DataLoader(test_dataset, batch_size=512, shuffle=False)\n",
    "\n",
    "test_probs = []\n",
    "test_targets = []\n",
    "\n",
    "with torch.no_grad():\n",
    "    for xb, yb in test_loader:\n",
    "        probs = model.predict_proba(xb)\n",
    "\n",
    "        test_probs.append(probs.cpu())\n",
    "        test_targets.append(yb.cpu())\n",
    "\n",
    "test_probs = torch.cat(test_probs).numpy()\n",
    "test_targets = torch.cat(test_targets).numpy()\n",
    "\n",
    "loss = log_loss(test_targets, test_probs)\n",
    "print(f\"Test log loss: {loss}\")"
   ]
  }
 ],
 "metadata": {
  "kernelspec": {
   "display_name": "mutation-probs-nn",
   "language": "python",
   "name": "python3"
  },
  "language_info": {
   "codemirror_mode": {
    "name": "ipython",
    "version": 3
   },
   "file_extension": ".py",
   "mimetype": "text/x-python",
   "name": "python",
   "nbconvert_exporter": "python",
   "pygments_lexer": "ipython3",
   "version": "3.9.18"
  }
 },
 "nbformat": 4,
 "nbformat_minor": 5
}
