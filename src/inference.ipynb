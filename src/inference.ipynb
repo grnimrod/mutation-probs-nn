{
 "cells": [
  {
   "cell_type": "markdown",
   "id": "06c7b5d2",
   "metadata": {},
   "source": [
    "# Notebook for inferring predictions and comparing model performance\n",
    "Specify data version, data and saved models get loaded in correspondingly"
   ]
  },
  {
   "cell_type": "markdown",
   "id": "3313bbaf",
   "metadata": {},
   "source": [
    "## Import models and functions needed"
   ]
  },
  {
   "cell_type": "code",
   "execution_count": 1,
   "id": "678b2fc2",
   "metadata": {},
   "outputs": [],
   "source": [
    "import torch\n",
    "from torch.utils.data import TensorDataset, DataLoader\n",
    "from sklearn.metrics import log_loss\n",
    "import pandas as pd\n",
    "import numpy as np\n",
    "import matplotlib.pyplot as plt\n",
    "\n",
    "from model_definitions import FullyConnectedNN\n",
    "from utils.load_splits import load_splits"
   ]
  },
  {
   "cell_type": "code",
   "execution_count": null,
   "id": "8d9da9fc",
   "metadata": {},
   "outputs": [],
   "source": [
    "# DATA_VERSION = "
   ]
  },
  {
   "cell_type": "code",
   "execution_count": 2,
   "id": "cd69eb80",
   "metadata": {},
   "outputs": [
    {
     "data": {
      "text/plain": [
       "FullyConnectedNN(\n",
       "  (linear_relu_seq): Sequential(\n",
       "    (0): LazyLinear(in_features=0, out_features=128, bias=True)\n",
       "    (1): ReLU()\n",
       "    (2): LazyLinear(in_features=0, out_features=64, bias=True)\n",
       "    (3): ReLU()\n",
       "    (4): LazyLinear(in_features=0, out_features=4, bias=True)\n",
       "  )\n",
       ")"
      ]
     },
     "execution_count": 2,
     "metadata": {},
     "output_type": "execute_result"
    }
   ],
   "source": [
    "model = FullyConnectedNN()\n",
    "model.load_state_dict(torch.load(\"/faststorage/project/MutationAnalysis/Nimrod/results/models/fc/3sC/model.pth\")) # So far only the 3sC model is created and saved, would be nice to make this whole inference notebook work with all different versions of the data\n",
    "# Should this work with different versions of the data one at a time or separate sections for each? Or separate notebooks?\n",
    "\n",
    "model.eval()"
   ]
  },
  {
   "cell_type": "markdown",
   "id": "fc7d33fa",
   "metadata": {},
   "source": [
    "## Infer test loss (3sC data)"
   ]
  },
  {
   "cell_type": "code",
   "execution_count": 31,
   "id": "6b806ee5",
   "metadata": {},
   "outputs": [
    {
     "name": "stdout",
     "output_type": "stream",
     "text": [
      "Test log loss: 0.6922024670608665\n"
     ]
    }
   ],
   "source": [
    "_, _, _, _, X_test, y_test = load_splits(\"3sC\")\n",
    "test_dataset = TensorDataset(X_test, y_test)\n",
    "test_loader = DataLoader(test_dataset, batch_size=512, shuffle=False)\n",
    "\n",
    "test_probs = []\n",
    "test_targets = []\n",
    "\n",
    "with torch.no_grad():\n",
    "    for xb, yb in test_loader:\n",
    "        probs = model.predict_proba(xb)\n",
    "\n",
    "        test_probs.append(probs.cpu())\n",
    "        test_targets.append(yb.cpu())\n",
    "\n",
    "test_probs = torch.cat(test_probs).numpy()\n",
    "test_targets = torch.cat(test_targets).numpy()\n",
    "\n",
    "loss = log_loss(test_targets, test_probs)\n",
    "print(f\"Test log loss: {loss}\")"
   ]
  },
  {
   "cell_type": "markdown",
   "id": "6879ec7e",
   "metadata": {},
   "source": [
    "## Generate list of each possible context"
   ]
  },
  {
   "cell_type": "code",
   "execution_count": 32,
   "id": "dd9a51aa",
   "metadata": {},
   "outputs": [],
   "source": [
    "df = pd.read_csv(\"/faststorage/project/MutationAnalysis/Nimrod/data/processed/3mer_subset_C.tsv\", sep=\"\\t\")\n",
    "\n",
    "distinct_contexts = df[\"context\"].drop_duplicates().sort_values(ignore_index=True)\n",
    "distinct_contexts = list(distinct_contexts)"
   ]
  },
  {
   "cell_type": "markdown",
   "id": "a8c73666",
   "metadata": {},
   "source": [
    "## Use model.predict_proba() to obtain probability distribution of mutation outcomes for each k-mer type"
   ]
  },
  {
   "cell_type": "code",
   "execution_count": 33,
   "id": "29671226",
   "metadata": {},
   "outputs": [
    {
     "data": {
      "text/html": [
       "<div>\n",
       "<style scoped>\n",
       "    .dataframe tbody tr th:only-of-type {\n",
       "        vertical-align: middle;\n",
       "    }\n",
       "\n",
       "    .dataframe tbody tr th {\n",
       "        vertical-align: top;\n",
       "    }\n",
       "\n",
       "    .dataframe thead th {\n",
       "        text-align: right;\n",
       "    }\n",
       "</style>\n",
       "<table border=\"1\" class=\"dataframe\">\n",
       "  <thead>\n",
       "    <tr style=\"text-align: right;\">\n",
       "      <th></th>\n",
       "      <th>A</th>\n",
       "      <th>C</th>\n",
       "      <th>G</th>\n",
       "      <th>T</th>\n",
       "    </tr>\n",
       "  </thead>\n",
       "  <tbody>\n",
       "    <tr>\n",
       "      <th>ACA</th>\n",
       "      <td>0.044562</td>\n",
       "      <td>0.780553</td>\n",
       "      <td>0.038019</td>\n",
       "      <td>0.136866</td>\n",
       "    </tr>\n",
       "    <tr>\n",
       "      <th>ACC</th>\n",
       "      <td>0.095035</td>\n",
       "      <td>0.734069</td>\n",
       "      <td>0.030725</td>\n",
       "      <td>0.140171</td>\n",
       "    </tr>\n",
       "    <tr>\n",
       "      <th>ACG</th>\n",
       "      <td>0.032663</td>\n",
       "      <td>0.256663</td>\n",
       "      <td>0.026562</td>\n",
       "      <td>0.684113</td>\n",
       "    </tr>\n",
       "    <tr>\n",
       "      <th>ACT</th>\n",
       "      <td>0.032879</td>\n",
       "      <td>0.782557</td>\n",
       "      <td>0.056236</td>\n",
       "      <td>0.128328</td>\n",
       "    </tr>\n",
       "    <tr>\n",
       "      <th>CCA</th>\n",
       "      <td>0.034713</td>\n",
       "      <td>0.825470</td>\n",
       "      <td>0.030725</td>\n",
       "      <td>0.109092</td>\n",
       "    </tr>\n",
       "    <tr>\n",
       "      <th>CCC</th>\n",
       "      <td>0.047270</td>\n",
       "      <td>0.783707</td>\n",
       "      <td>0.046041</td>\n",
       "      <td>0.122982</td>\n",
       "    </tr>\n",
       "    <tr>\n",
       "      <th>CCG</th>\n",
       "      <td>0.027715</td>\n",
       "      <td>0.328949</td>\n",
       "      <td>0.021816</td>\n",
       "      <td>0.621521</td>\n",
       "    </tr>\n",
       "    <tr>\n",
       "      <th>CCT</th>\n",
       "      <td>0.030302</td>\n",
       "      <td>0.803112</td>\n",
       "      <td>0.047595</td>\n",
       "      <td>0.118991</td>\n",
       "    </tr>\n",
       "    <tr>\n",
       "      <th>GCA</th>\n",
       "      <td>0.053118</td>\n",
       "      <td>0.820173</td>\n",
       "      <td>0.031309</td>\n",
       "      <td>0.095400</td>\n",
       "    </tr>\n",
       "    <tr>\n",
       "      <th>GCC</th>\n",
       "      <td>0.067504</td>\n",
       "      <td>0.763945</td>\n",
       "      <td>0.033289</td>\n",
       "      <td>0.135262</td>\n",
       "    </tr>\n",
       "    <tr>\n",
       "      <th>GCG</th>\n",
       "      <td>0.066786</td>\n",
       "      <td>0.332833</td>\n",
       "      <td>0.017709</td>\n",
       "      <td>0.582671</td>\n",
       "    </tr>\n",
       "    <tr>\n",
       "      <th>GCT</th>\n",
       "      <td>0.040776</td>\n",
       "      <td>0.808037</td>\n",
       "      <td>0.038245</td>\n",
       "      <td>0.112943</td>\n",
       "    </tr>\n",
       "    <tr>\n",
       "      <th>TCA</th>\n",
       "      <td>0.034776</td>\n",
       "      <td>0.838039</td>\n",
       "      <td>0.039179</td>\n",
       "      <td>0.088006</td>\n",
       "    </tr>\n",
       "    <tr>\n",
       "      <th>TCC</th>\n",
       "      <td>0.034962</td>\n",
       "      <td>0.805263</td>\n",
       "      <td>0.041844</td>\n",
       "      <td>0.117932</td>\n",
       "    </tr>\n",
       "    <tr>\n",
       "      <th>TCG</th>\n",
       "      <td>0.039792</td>\n",
       "      <td>0.352371</td>\n",
       "      <td>0.035191</td>\n",
       "      <td>0.572647</td>\n",
       "    </tr>\n",
       "    <tr>\n",
       "      <th>TCT</th>\n",
       "      <td>0.041191</td>\n",
       "      <td>0.816835</td>\n",
       "      <td>0.061107</td>\n",
       "      <td>0.080868</td>\n",
       "    </tr>\n",
       "  </tbody>\n",
       "</table>\n",
       "</div>"
      ],
      "text/plain": [
       "            A         C         G         T\n",
       "ACA  0.044562  0.780553  0.038019  0.136866\n",
       "ACC  0.095035  0.734069  0.030725  0.140171\n",
       "ACG  0.032663  0.256663  0.026562  0.684113\n",
       "ACT  0.032879  0.782557  0.056236  0.128328\n",
       "CCA  0.034713  0.825470  0.030725  0.109092\n",
       "CCC  0.047270  0.783707  0.046041  0.122982\n",
       "CCG  0.027715  0.328949  0.021816  0.621521\n",
       "CCT  0.030302  0.803112  0.047595  0.118991\n",
       "GCA  0.053118  0.820173  0.031309  0.095400\n",
       "GCC  0.067504  0.763945  0.033289  0.135262\n",
       "GCG  0.066786  0.332833  0.017709  0.582671\n",
       "GCT  0.040776  0.808037  0.038245  0.112943\n",
       "TCA  0.034776  0.838039  0.039179  0.088006\n",
       "TCC  0.034962  0.805263  0.041844  0.117932\n",
       "TCG  0.039792  0.352371  0.035191  0.572647\n",
       "TCT  0.041191  0.816835  0.061107  0.080868"
      ]
     },
     "execution_count": 33,
     "metadata": {},
     "output_type": "execute_result"
    }
   ],
   "source": [
    "probs = []\n",
    "\n",
    "def one_hot_encode_3mer(context):\n",
    "    nucleotides = ['A', 'C', 'G', 'T']\n",
    "    nuc_to_int = {nuc: i for i, nuc in enumerate(nucleotides)} # Encode nucl to int\n",
    "    onehot_array = np.concatenate([np.eye(4)[nuc_to_int[nuc]] for nuc in context])\n",
    "    return torch.as_tensor(onehot_array, dtype=torch.float32)\n",
    "\n",
    "\n",
    "for context in distinct_contexts:\n",
    "    context_onehot = one_hot_encode_3mer(context)\n",
    "    model.eval()\n",
    "    with torch.no_grad():\n",
    "        prob_distr = model.predict_proba(context_onehot).detach().numpy()\n",
    "        probs.append(prob_distr)\n",
    "\n",
    "nucleotides = ['A', 'C', 'G', 'T']\n",
    "probs = pd.DataFrame(probs, columns=nucleotides, index=distinct_contexts)\n",
    "probs"
   ]
  },
  {
   "cell_type": "code",
   "execution_count": 38,
   "id": "b17ae826",
   "metadata": {},
   "outputs": [
    {
     "data": {
      "image/png": "[encoded data removed]",
      "text/plain": [
       "<Figure size 1000x500 with 1 Axes>"
      ]
     },
     "metadata": {},
     "output_type": "display_data"
    }
   ],
   "source": [
    "probs.plot(kind=\"bar\", figsize=(10, 5))\n",
    "plt.title(\"Probability distribution of mutation outcomes per context\")\n",
    "plt.show()"
   ]
  }
 ],
 "metadata": {
  "kernelspec": {
   "display_name": "mutation-probs-nn",
   "language": "python",
   "name": "python3"
  },
  "language_info": {
   "codemirror_mode": {
    "name": "ipython",
    "version": 3
   },
   "file_extension": ".py",
   "mimetype": "text/x-python",
   "name": "python",
   "nbconvert_exporter": "python",
   "pygments_lexer": "ipython3",
   "version": "3.9.18"
  }
 },
 "nbformat": 4,
 "nbformat_minor": 5
}
